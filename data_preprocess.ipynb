{
 "cells": [
  {
   "cell_type": "code",
   "execution_count": 17,
   "metadata": {},
   "outputs": [],
   "source": [
    "import random\n",
    "\n",
    "import os\n",
    "import sys\n",
    "\n",
    "import numpy as np\n",
    "import torch\n",
    "\n",
    "from PIL import Image\n",
    "\n",
    "from skimage import io\n",
    "import matplotlib.pyplot as plt"
   ]
  },
  {
   "cell_type": "code",
   "execution_count": 18,
   "metadata": {},
   "outputs": [],
   "source": [
    "data_path = os.curdir + os.sep + \"data\" + os.sep + \"Dataset011_Cell\"\n",
    "train_image_dir_path = data_path + os.sep + \"imagesTr\"\n",
    "train_label_dir_path = data_path + os.sep + \"labelsTr\"\n",
    "\n",
    "external_image_dir_path = data_path + os.sep + \"imagesTs-External\"\n",
    "internal_image_dir_path = data_path + os.sep + \"imagesTs-Internal\""
   ]
  },
  {
   "cell_type": "code",
   "execution_count": 25,
   "metadata": {},
   "outputs": [],
   "source": [
    "train_images = os.listdir(train_image_dir_path)\n",
    "train_images_paths = [train_image_dir_path + os.sep + image for image in train_images]\n",
    "\n",
    "train_labels = os.listdir(train_label_dir_path)\n",
    "train_labels_paths = [train_label_dir_path + os.sep + label for label in train_labels]\n",
    "\n",
    "external_images = os.listdir(external_image_dir_path)\n",
    "external_images_paths = [external_image_dir_path + os.sep + image for image in external_images]\n",
    "\n",
    "internal_images = os.listdir(internal_image_dir_path)\n",
    "internal_images_paths = [internal_image_dir_path + os.sep + image for image in internal_images]"
   ]
  },
  {
   "cell_type": "markdown",
   "metadata": {},
   "source": [
    "# Rename the images to be compatabile with nnUNet framework."
   ]
  },
  {
   "cell_type": "code",
   "execution_count": 20,
   "metadata": {},
   "outputs": [],
   "source": [
    "def rename_images(image_paths, label_paths=None):\n",
    "\n",
    "    image_dir = f\"{os.sep}\".join(image_paths[0].split(os.sep)[:-1])\n",
    "    if label_paths:\n",
    "        label_dir = f\"{os.sep}\".join(label_paths[0].split(os.sep)[:-1])\n",
    "\n",
    "    for indx in range(len(image_paths)):\n",
    "        image_extension = image_paths[indx].split(\".\")[-1]\n",
    "        new_image_name = f\"cell_{str(indx).zfill(3)}_0000.{image_extension}\"\n",
    "        os.rename(image_paths[indx], image_dir + os.sep + new_image_name)\n",
    "        \n",
    "        if label_paths:\n",
    "            label_extension = label_paths[indx].split(\".\")[-1]\n",
    "            new_label_name = f\"cell_{str(indx).zfill(3)}.{label_extension}\"\n",
    "            os.rename(label_paths[indx], label_dir + os.sep + new_label_name) \n",
    "\n",
    "rename_images(train_images_paths, train_labels_paths)\n",
    "rename_images(external_images_paths)\n",
    "rename_images(internal_images_paths)"
   ]
  },
  {
   "cell_type": "markdown",
   "metadata": {},
   "source": [
    "# Convert from tiff to png to standardize them for nnUNet framework, as it expects them to be of the same format.\n",
    "### Note: If the alpha dimension from tiff was important here, we could find ways of converting from png to tiff, as opposed to the other way around.\n",
    "### Also note: If we were not using nnUNet, we could possibly process both image formats using two different input layers, keeping everything in the backbone the same."
   ]
  },
  {
   "cell_type": "code",
   "execution_count": 22,
   "metadata": {},
   "outputs": [
    {
     "name": "stdout",
     "output_type": "stream",
     "text": [
      "./data/Dataset011_Cell/imagesTr\n",
      "./data/Dataset011_Cell/imagesTr\n"
     ]
    }
   ],
   "source": [
    "def convert_to_png(image_paths, convert_from=\"tiff\"):\n",
    "    dir = os.path.dirname(image_paths[0])\n",
    "    for image_path in image_paths:\n",
    "        image_name = os.path.basename(image_path)\n",
    "        if convert_from in image_name or convert_from == \"all\": \n",
    "            image_name = f\"{os.sep}\".join(image_name.split(\".\")[:-1]) + \".png\"\n",
    "            img = Image.open(image_path)\n",
    "            img.convert('RGB').save(os.path.join(dir, image_name), \"PNG\")\n",
    "            img.close()\n",
    "            os.remove(image_path)\n",
    "\n",
    "# Covert both jpg and tiff images to png.\n",
    "convert_to_png(train_images_paths, convert_from=\"jpg\")\n",
    "convert_to_png(train_images_paths, convert_from=\"tiff\")\n",
    "\n",
    "convert_to_png(external_images_paths, convert_from=\"all\")\n",
    "convert_to_png(internal_images_paths, convert_from=\"all\")"
   ]
  },
  {
   "cell_type": "markdown",
   "metadata": {},
   "source": [
    "# Split data into train and validation.\n",
    "### **Only do this after nnUNet data preprocessing.**"
   ]
  },
  {
   "cell_type": "code",
   "execution_count": 26,
   "metadata": {},
   "outputs": [],
   "source": [
    "val_images_path = data_path + os.sep + \"imagesVl\" \n",
    "val_labels_path = data_path + os.sep + \"labelsVl\"\n",
    "\n",
    "os.makedirs(val_images_path, exist_ok=True)\n",
    "os.makedirs(val_labels_path, exist_ok=True)"
   ]
  },
  {
   "cell_type": "code",
   "execution_count": 27,
   "metadata": {},
   "outputs": [],
   "source": [
    "import shutil\n",
    "\n",
    "n_images = len(train_images)\n",
    "val_indices_list = np.arange(0, n_images, n_images/int(n_images * 0.2)).round().astype(\"int\")\n",
    "val_images_paths = np.array(train_images_paths)[val_indices_list]\n",
    "val_labels_paths = np.array(train_labels_paths)[val_indices_list]\n",
    "\n",
    "for path in val_images_paths:\n",
    "    shutil.move(path, val_images_path)\n",
    "\n",
    "for path in val_labels_paths:\n",
    "    shutil.move(path, val_labels_path)"
   ]
  }
 ],
 "metadata": {
  "kernelspec": {
   "display_name": "Python 3",
   "language": "python",
   "name": "python3"
  },
  "language_info": {
   "codemirror_mode": {
    "name": "ipython",
    "version": 3
   },
   "file_extension": ".py",
   "mimetype": "text/x-python",
   "name": "python",
   "nbconvert_exporter": "python",
   "pygments_lexer": "ipython3",
   "version": "3.8.10"
  }
 },
 "nbformat": 4,
 "nbformat_minor": 2
}
